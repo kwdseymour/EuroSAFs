{
 "cells": [
  {
   "cell_type": "markdown",
   "metadata": {
    "toc": true
   },
   "source": [
    "<h1>Table of Contents<span class=\"tocSkip\"></span></h1>\n",
    "<div class=\"toc\"><ul class=\"toc-item\"></ul></div>"
   ]
  },
  {
   "cell_type": "code",
   "execution_count": 2,
   "metadata": {
    "ExecuteTime": {
     "end_time": "2020-05-04T09:42:03.945797Z",
     "start_time": "2020-05-04T09:42:03.941778Z"
    }
   },
   "outputs": [],
   "source": [
    "import matplotlib\n",
    "import matplotlib.pyplot as plt\n",
    "from pathlib import Path\n",
    "config_dir = matplotlib.get_configdir()"
   ]
  },
  {
   "cell_type": "code",
   "execution_count": 3,
   "metadata": {
    "ExecuteTime": {
     "end_time": "2020-05-04T09:42:04.281441Z",
     "start_time": "2020-05-04T09:42:04.277124Z"
    }
   },
   "outputs": [],
   "source": [
    "p = Path(config_dir+'/stylelib')\n",
    "p.mkdir(exist_ok=True)"
   ]
  },
  {
   "cell_type": "code",
   "execution_count": 4,
   "metadata": {
    "ExecuteTime": {
     "end_time": "2020-05-04T09:42:04.976161Z",
     "start_time": "2020-05-04T09:42:04.970036Z"
    }
   },
   "outputs": [
    {
     "data": {
      "text/plain": [
       "530"
      ]
     },
     "execution_count": 4,
     "metadata": {},
     "output_type": "execute_result"
    }
   ],
   "source": [
    "path = p / 'EuroSAFs_pub.mplstyle'\n",
    "path.write_text('''\n",
    "font.family : arial\n",
    "font.size : 15\n",
    "lines.linewidth : 2\n",
    "lines.markersize: 6\n",
    "lines.color : B36C24\n",
    "xtick.labelsize : medium\n",
    "ytick.labelsize : medium\n",
    "legend.fontsize : medium\n",
    "legend.frameon  : True\n",
    "legend.framealpha  : 0.8 \n",
    "figure.figsize  : 15,7.5\n",
    "axes.prop_cycle : cycler('color',['264653','F4974B','C45544','2A9D8F','A4A0A9',\\\n",
    "                                  '1D84B5','BEB7DF','0BC9CD','D90368','EDD363'])\n",
    "axes.labelsize : medium\n",
    "axes.titlesize : medium\n",
    "axes.titlepad : 20\n",
    "axes.labelpad : 12\n",
    "figure.dpi : 400\n",
    "savefig.dpi : figure\n",
    "''')"
   ]
  }
 ],
 "metadata": {
  "kernelspec": {
   "display_name": "Python 3",
   "language": "python",
   "name": "python3"
  },
  "language_info": {
   "codemirror_mode": {
    "name": "ipython",
    "version": 3
   },
   "file_extension": ".py",
   "mimetype": "text/x-python",
   "name": "python",
   "nbconvert_exporter": "python",
   "pygments_lexer": "ipython3",
   "version": "3.7.9"
  },
  "toc": {
   "base_numbering": 1,
   "nav_menu": {},
   "number_sections": true,
   "sideBar": true,
   "skip_h1_title": false,
   "title_cell": "Table of Contents",
   "title_sidebar": "Contents",
   "toc_cell": true,
   "toc_position": {},
   "toc_section_display": true,
   "toc_window_display": true
  },
  "varInspector": {
   "cols": {
    "lenName": 16,
    "lenType": 16,
    "lenVar": 40
   },
   "kernels_config": {
    "python": {
     "delete_cmd_postfix": "",
     "delete_cmd_prefix": "del ",
     "library": "var_list.py",
     "varRefreshCmd": "print(var_dic_list())"
    },
    "r": {
     "delete_cmd_postfix": ") ",
     "delete_cmd_prefix": "rm(",
     "library": "var_list.r",
     "varRefreshCmd": "cat(var_dic_list()) "
    }
   },
   "types_to_exclude": [
    "module",
    "function",
    "builtin_function_or_method",
    "instance",
    "_Feature"
   ],
   "window_display": false
  }
 },
 "nbformat": 4,
 "nbformat_minor": 4
}
