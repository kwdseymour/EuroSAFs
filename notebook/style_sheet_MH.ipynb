{
 "cells": [
  {
   "cell_type": "markdown",
   "metadata": {
    "toc": true
   },
   "source": [
    "<h1>Table of Contents<span class=\"tocSkip\"></span></h1>\n",
    "<div class=\"toc\"><ul class=\"toc-item\"></ul></div>"
   ]
  },
  {
   "cell_type": "code",
   "execution_count": 2,
   "metadata": {
    "ExecuteTime": {
     "end_time": "2020-05-04T09:42:03.945797Z",
     "start_time": "2020-05-04T09:42:03.941778Z"
    }
   },
   "outputs": [],
   "source": [
    "import matplotlib\n",
    "import matplotlib.pyplot as plt\n",
    "from pathlib import Path\n",
    "config_dir = matplotlib.get_configdir()"
   ]
  },
  {
   "cell_type": "code",
   "execution_count": 4,
   "metadata": {
    "ExecuteTime": {
     "end_time": "2020-05-04T09:42:04.281441Z",
     "start_time": "2020-05-04T09:42:04.277124Z"
    }
   },
   "outputs": [],
   "source": [
    "p = Path(config_dir+'/stylelib')\n",
    "p.mkdir(exist_ok=True)"
   ]
  },
  {
   "cell_type": "code",
   "execution_count": 5,
   "metadata": {
    "ExecuteTime": {
     "end_time": "2020-05-04T09:42:04.444881Z",
     "start_time": "2020-05-04T09:42:04.438099Z"
    }
   },
   "outputs": [
    {
     "data": {
      "text/plain": [
       "159"
      ]
     },
     "execution_count": 5,
     "metadata": {},
     "output_type": "execute_result"
    }
   ],
   "source": [
    "path = p / 'mh_reduced.mplstyle'\n",
    "path.write_text('''\\\n",
    "axes.prop_cycle : cycler('color',['264653','F4974B','C45544','2A9D8F','A4A0A9',\\\n",
    "                                  '1D84B5','BEB7DF','0BC9CD','D90368','EDD363'])\\\n",
    "''')"
   ]
  },
  {
   "cell_type": "code",
   "execution_count": 6,
   "metadata": {
    "ExecuteTime": {
     "end_time": "2020-05-04T09:42:04.614272Z",
     "start_time": "2020-05-04T09:42:04.604762Z"
    }
   },
   "outputs": [
    {
     "data": {
      "text/plain": [
       "507"
      ]
     },
     "execution_count": 6,
     "metadata": {},
     "output_type": "execute_result"
    }
   ],
   "source": [
    "path = p / 'mh_small.mplstyle'\n",
    "path.write_text('''\n",
    "font.family : sans-serif\n",
    "font.size : 6\n",
    "lines.linewidth : 1\n",
    "lines.markersize: 3\n",
    "lines.color : B36C24\n",
    "xtick.labelsize : medium\n",
    "ytick.labelsize : medium\n",
    "legend.fontsize : medium\n",
    "legend.frameon  : True\n",
    "legend.framealpha  : 0.8 \n",
    "figure.figsize  : 3.5,2\n",
    "axes.prop_cycle : cycler('color',['264653','F4974B','C45544','2A9D8F','A4A0A9',\\\n",
    "                                  '1D84B5','BEB7DF','0BC9CD','D90368','EDD363'])\n",
    "axes.labelsize : medium\n",
    "axes.titlepad : 6\n",
    "axes.labelpad : 6\n",
    "figure.dpi : 125\n",
    "savefig.dpi : figure\n",
    "''')"
   ]
  },
  {
   "cell_type": "code",
   "execution_count": 7,
   "metadata": {
    "ExecuteTime": {
     "end_time": "2020-05-04T09:42:04.976161Z",
     "start_time": "2020-05-04T09:42:04.970036Z"
    }
   },
   "outputs": [
    {
     "data": {
      "text/plain": [
       "511"
      ]
     },
     "execution_count": 7,
     "metadata": {},
     "output_type": "execute_result"
    }
   ],
   "source": [
    "path = p / 'mh_full.mplstyle'\n",
    "path.write_text('''\n",
    "font.family : sans-serif\n",
    "font.size : 15\n",
    "lines.linewidth : 2\n",
    "lines.markersize: 6\n",
    "lines.color : B36C24\n",
    "xtick.labelsize : medium\n",
    "ytick.labelsize : medium\n",
    "legend.fontsize : medium\n",
    "legend.frameon  : True\n",
    "legend.framealpha  : 0.8 \n",
    "figure.figsize  : 15,7.5\n",
    "axes.prop_cycle : cycler('color',['264653','F4974B','C45544','2A9D8F','A4A0A9',\\\n",
    "                                  '1D84B5','BEB7DF','0BC9CD','D90368','EDD363'])\n",
    "axes.labelsize : medium\n",
    "axes.titlepad : 20\n",
    "axes.labelpad : 12\n",
    "figure.dpi : 400\n",
    "savefig.dpi : figure\n",
    "''')"
   ]
  },
  {
   "cell_type": "code",
   "execution_count": 8,
   "metadata": {
    "ExecuteTime": {
     "end_time": "2020-05-04T09:42:07.777081Z",
     "start_time": "2020-05-04T09:42:07.769027Z"
    }
   },
   "outputs": [],
   "source": [
    "del config_dir,path"
   ]
  },
  {
   "cell_type": "code",
   "execution_count": 9,
   "metadata": {
    "ExecuteTime": {
     "end_time": "2020-05-04T09:42:07.990345Z",
     "start_time": "2020-05-04T09:42:07.986802Z"
    }
   },
   "outputs": [],
   "source": [
    "# Define colour map\n",
    "cmap=['264653','F4974B','C45544','2A9D8F','A4A0A9',\\\n",
    "      '1D84B5','BEB7DF','0BC9CD','D90368','EDD363']\n"
   ]
  },
  {
   "cell_type": "code",
   "execution_count": 10,
   "metadata": {
    "ExecuteTime": {
     "end_time": "2020-05-04T09:42:08.221965Z",
     "start_time": "2020-05-04T09:42:08.195267Z"
    }
   },
   "outputs": [],
   "source": [
    "import webcolors\n",
    "import numpy as np\n",
    "\n",
    "# Convert to RGBA\n",
    "for i in np.arange(0,len(cmap)):\n",
    "    cmap[i] = tuple(np.array(webcolors.hex_to_rgb('#'+str(cmap[i])))/255.0)"
   ]
  }
 ],
 "metadata": {
  "kernelspec": {
   "display_name": "Python 3",
   "language": "python",
   "name": "python3"
  },
  "language_info": {
   "codemirror_mode": {
    "name": "ipython",
    "version": 3
   },
   "file_extension": ".py",
   "mimetype": "text/x-python",
   "name": "python",
   "nbconvert_exporter": "python",
   "pygments_lexer": "ipython3",
   "version": "3.7.3"
  },
  "toc": {
   "base_numbering": 1,
   "nav_menu": {},
   "number_sections": true,
   "sideBar": true,
   "skip_h1_title": false,
   "title_cell": "Table of Contents",
   "title_sidebar": "Contents",
   "toc_cell": true,
   "toc_position": {},
   "toc_section_display": true,
   "toc_window_display": true
  },
  "varInspector": {
   "cols": {
    "lenName": 16,
    "lenType": 16,
    "lenVar": 40
   },
   "kernels_config": {
    "python": {
     "delete_cmd_postfix": "",
     "delete_cmd_prefix": "del ",
     "library": "var_list.py",
     "varRefreshCmd": "print(var_dic_list())"
    },
    "r": {
     "delete_cmd_postfix": ") ",
     "delete_cmd_prefix": "rm(",
     "library": "var_list.r",
     "varRefreshCmd": "cat(var_dic_list()) "
    }
   },
   "types_to_exclude": [
    "module",
    "function",
    "builtin_function_or_method",
    "instance",
    "_Feature"
   ],
   "window_display": false
  }
 },
 "nbformat": 4,
 "nbformat_minor": 2
}
